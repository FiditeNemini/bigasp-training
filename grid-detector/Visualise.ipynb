{
 "cells": [
  {
   "cell_type": "markdown",
   "metadata": {},
   "source": [
    "# Find Grid Images with score > 0\n",
    "Checking to see if any grid images got through our score filters"
   ]
  },
  {
   "cell_type": "code",
   "execution_count": 1,
   "metadata": {},
   "outputs": [],
   "source": [
    "import numpy as np\n",
    "import random\n",
    "import psycopg\n",
    "from transformers import AutoProcessor, AutoModelForZeroShotImageClassification\n",
    "from PIL import Image\n",
    "from pathlib import Path\n",
    "from tqdm import tqdm\n",
    "import torch\n",
    "import torch.nn.functional as F\n",
    "import torch.nn as nn\n",
    "import ipywidgets as widgets\n",
    "from collections import defaultdict\n",
    "import itertools\n",
    "from torch import optim\n",
    "from transformers import get_scheduler\n",
    "import matplotlib.pyplot as plt\n",
    "from torch.utils.data import DataLoader, TensorDataset\n",
    "from sklearn.linear_model import LogisticRegression\n",
    "import pickle\n",
    "import io\n",
    "import sqlite3\n",
    "from model import NsfwClassifier\n",
    "import json"
   ]
  },
  {
   "cell_type": "code",
   "execution_count": 2,
   "metadata": {},
   "outputs": [
    {
     "data": {
      "text/plain": [
       "NsfwClassifier(\n",
       "  (ln): LayerNorm((768,), eps=1e-05, elementwise_affine=True)\n",
       "  (dropout1): Dropout(p=0.0, inplace=False)\n",
       "  (linear1): Linear(in_features=768, out_features=1536, bias=True)\n",
       "  (act_fn): GELU(approximate='none')\n",
       "  (dropout2): Dropout(p=0.0, inplace=False)\n",
       "  (linear2): Linear(in_features=1536, out_features=2, bias=True)\n",
       ")"
      ]
     },
     "execution_count": 2,
     "metadata": {},
     "output_type": "execute_result"
    }
   ],
   "source": [
    "model = NsfwClassifier(768, 0.0, 2)\n",
    "model.load_state_dict(torch.load('classifier.pt'))\n",
    "model.eval()"
   ]
  },
  {
   "cell_type": "code",
   "execution_count": null,
   "metadata": {},
   "outputs": [],
   "source": [
    "conn = sqlite3.connect('../data/clip-embeddings.sqlite3')\n",
    "cursor = conn.cursor()\n",
    "\n",
    "cursor.execute(\"SELECT path, score FROM images WHERE embedding IS NOT NULL AND score > 0\")\n",
    "all_paths = [row for row in cursor.fetchall()]\n",
    "random.shuffle(all_paths)\n",
    "\n",
    "need_to_find = 20\n",
    "\n",
    "for i in range(0, len(all_paths), 256):\n",
    "\tbatch = all_paths[i:i+256]\n",
    "\n",
    "\tembeddings = []\n",
    "\n",
    "\tfor path,_ in batch:\n",
    "\t\tcursor.execute(\"SELECT embedding FROM images WHERE path = ?\", (path,))\n",
    "\t\tembedding = np.frombuffer(cursor.fetchone()[0], dtype=np.float16)\n",
    "\t\tembedding = torch.tensor(embedding, dtype=torch.float32)\n",
    "\t\tembeddings.append(embedding)\n",
    "\n",
    "\tembeddings = torch.stack(embeddings)\n",
    "\n",
    "\twith torch.no_grad():\n",
    "\t\toutputs = model(embeddings)\n",
    "\t\toutputs = F.softmax(outputs, dim=1)\n",
    "\t\tscores = outputs[:, 1].tolist()\n",
    "\t\n",
    "\tfound = False\n",
    "\t\n",
    "\tfor path, db_score, score in zip([row[0] for row in batch], [row[1] for row in batch], scores):\n",
    "\t\tif score < 0.5:\n",
    "\t\t\tcontinue\n",
    "\n",
    "\t\tprint(f\"Score: {score:.2f} (DB: {db_score}), path: {path}\")\n",
    "\t\timage = Image.open(path)\n",
    "\t\tscale = 1024 / max(image.size)\n",
    "\t\tdisplay(image.resize((int(image.width * scale), int(image.height * scale))))\n",
    "\t\tfound = True\n",
    "\t\tneed_to_find -= 1\n",
    "\t\n",
    "\tif not found:\n",
    "\t\tprint(\"Clean\")\n",
    "\telif need_to_find <= 0:\n",
    "\t\tbreak"
   ]
  },
  {
   "cell_type": "code",
   "execution_count": null,
   "metadata": {},
   "outputs": [],
   "source": []
  },
  {
   "cell_type": "code",
   "execution_count": 4,
   "metadata": {},
   "outputs": [
    {
     "name": "stdout",
     "output_type": "stream",
     "text": [
      "3\n"
     ]
    }
   ],
   "source": [
    "# Inject problematic images into the quality-arena database\n",
    "# We inject them as ties. Don't really care about one over the other winning. The goal is to get it into the system so they pop up during manual scorings.\n",
    "import sqlite3\n",
    "import itertools\n",
    "\n",
    "paths = [\n",
    "]\n",
    "\n",
    "pairs = list(itertools.combinations(paths, 2))\n",
    "print(len(pairs))\n",
    "\n",
    "with sqlite3.connect(\"../quality-arena/ratings.sqlite3\") as conn:\n",
    "\tcursor = conn.cursor()\n",
    "\n",
    "\tfor path1, path2 in pairs:\n",
    "\t\tcursor.execute(\"INSERT INTO ratings (win_path, lose_path) VALUES (?, ?)\", (path1, path2))\n",
    "\t\tcursor.execute(\"INSERT INTO ratings (win_path, lose_path) VALUES (?, ?)\", (path2, path1))\n",
    "\t\n",
    "\tconn.commit()"
   ]
  },
  {
   "cell_type": "code",
   "execution_count": null,
   "metadata": {},
   "outputs": [],
   "source": []
  }
 ],
 "metadata": {
  "kernelspec": {
   "display_name": "tmpenv5",
   "language": "python",
   "name": "python3"
  },
  "language_info": {
   "codemirror_mode": {
    "name": "ipython",
    "version": 3
   },
   "file_extension": ".py",
   "mimetype": "text/x-python",
   "name": "python",
   "nbconvert_exporter": "python",
   "pygments_lexer": "ipython3",
   "version": "3.11.9"
  }
 },
 "nbformat": 4,
 "nbformat_minor": 2
}
