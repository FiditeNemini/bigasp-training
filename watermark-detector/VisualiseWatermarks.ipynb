{
 "cells": [
  {
   "cell_type": "code",
   "execution_count": 1,
   "metadata": {},
   "outputs": [],
   "source": [
    "import random\n",
    "from PIL import Image, ImageDraw\n",
    "from pathlib import Path\n",
    "from tqdm import tqdm\n",
    "import io\n",
    "import sqlite3\n",
    "import base64\n",
    "import torch"
   ]
  },
  {
   "cell_type": "code",
   "execution_count": 3,
   "metadata": {},
   "outputs": [
    {
     "name": "stderr",
     "output_type": "stream",
     "text": [
      "  6%|▋         | 64/1024 [00:04<01:19, 12.05it/s]/home/night/anaconda3/envs/tmpenv5/lib/python3.11/site-packages/PIL/Image.py:2896: DecompressionBombWarning: Image size (101082464 pixels) exceeds limit of 89478485 pixels, could be decompression bomb DOS attack.\n",
      "  warnings.warn(\n",
      "100%|██████████| 1024/1024 [01:05<00:00, 15.58it/s]\n",
      "100%|██████████| 1024/1024 [01:19<00:00, 12.88it/s]\n"
     ]
    }
   ],
   "source": [
    "def markup_watermarked_image(image: Image.Image, boxes: bytes):\n",
    "\ttorch_boxes = torch.frombuffer(bytearray(boxes), dtype=torch.float16).reshape(-1, 4).tolist()\n",
    "\n",
    "\tdraw = ImageDraw.Draw(image)\n",
    "\n",
    "\tx_scale = max(image.size)\n",
    "\tfor bbox in torch_boxes:\n",
    "\t\tbbox = (bbox[0] * x_scale, bbox[1] * x_scale, bbox[2] * x_scale, bbox[3] * x_scale)\n",
    "\t\txmin, ymin, xmax, ymax = bbox\n",
    "\t\tdraw.rectangle([xmin, ymin, xmax, ymax], outline=\"red\", width=2)\n",
    "\n",
    "\n",
    "conn = sqlite3.connect('../data/clip-embeddings.sqlite3')\n",
    "cursor = conn.cursor()\n",
    "\n",
    "cursor.execute(\"SELECT path, watermark, watermark_boxes FROM images WHERE embedding IS NOT NULL AND watermark IS NOT NULL\")\n",
    "all_paths = [row for row in cursor.fetchall()]\n",
    "random.shuffle(all_paths)\n",
    "\n",
    "watermarked = [(path, watermark_boxes) for path, watermark, watermark_boxes in all_paths if watermark]\n",
    "non_watermarked = [(path, watermark_boxes) for path, watermark, watermark_boxes in all_paths if not watermark]\n",
    "\n",
    "\n",
    "def write_images(paths: list[tuple[str, bytes]]):\n",
    "\thtml = \"<html><<body>\"\n",
    "\n",
    "\tfor path, boxes in tqdm(paths):\n",
    "\t\timage = Image.open(path)\n",
    "\t\tscale = 512 / max(image.size)\n",
    "\t\timage = image.resize([round(x * scale) for x in image.size])\n",
    "\t\timage = image.convert(\"RGB\")\n",
    "\n",
    "\t\tif boxes is not None and len(boxes) > 0:\n",
    "\t\t\tmarkup_watermarked_image(image, boxes)\n",
    "\n",
    "\t\twith io.BytesIO() as output:\n",
    "\t\t\timage.save(output, format=\"webp\")\n",
    "\t\t\tdata = base64.b64encode(output.getvalue()).decode()\n",
    "\t\t\n",
    "\t\thtml += f'<img src=\"data:image/jpeg;base64,{data}\" alt=\"{path}\">'\n",
    "\n",
    "\thtml += \"</body></html>\"\n",
    "\n",
    "\treturn html\n",
    "\n",
    "\n",
    "with open(\"watermarked.html\", \"w\") as f:\n",
    "\tf.write(write_images(watermarked[:1024]))\n",
    "\n",
    "with open(\"non_watermarked.html\", \"w\") as f:\n",
    "\tf.write(write_images(non_watermarked[:1024]))"
   ]
  },
  {
   "cell_type": "code",
   "execution_count": null,
   "metadata": {},
   "outputs": [],
   "source": []
  }
 ],
 "metadata": {
  "kernelspec": {
   "display_name": "tmpenv5",
   "language": "python",
   "name": "python3"
  },
  "language_info": {
   "codemirror_mode": {
    "name": "ipython",
    "version": 3
   },
   "file_extension": ".py",
   "mimetype": "text/x-python",
   "name": "python",
   "nbconvert_exporter": "python",
   "pygments_lexer": "ipython3",
   "version": "3.1.-1"
  }
 },
 "nbformat": 4,
 "nbformat_minor": 2
}
