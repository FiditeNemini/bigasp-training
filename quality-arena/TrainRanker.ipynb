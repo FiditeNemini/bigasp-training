{
 "cells": [
  {
   "cell_type": "code",
   "execution_count": 1,
   "metadata": {},
   "outputs": [],
   "source": [
    "import os\n",
    "os.environ['CUDA_VISIBLE_DEVICES'] = '0'"
   ]
  },
  {
   "cell_type": "code",
   "execution_count": 3,
   "metadata": {},
   "outputs": [],
   "source": [
    "import sqlite3\n",
    "import random\n",
    "import torch\n",
    "import itertools\n",
    "from tqdm import tqdm\n",
    "import functools\n",
    "from PIL import Image\n",
    "from collections import defaultdict\n",
    "from IPython.display import display, HTML\n",
    "import base64\n",
    "import io\n",
    "from torch.utils.data import DataLoader\n",
    "import torch.nn.functional as F\n",
    "from transformers import get_scheduler\n",
    "from torch import optim\n",
    "import torch.nn as nn\n",
    "import numpy as np\n",
    "from torch.optim.lr_scheduler import OneCycleLR\n",
    "import matplotlib.pyplot as plt\n",
    "from models import ScoreClassifier, QualityClassifier\n",
    "import psycopg\n",
    "from pathlib import Path\n",
    "from grid_models import NsfwClassifier as GridClassifier"
   ]
  },
  {
   "cell_type": "code",
   "execution_count": 4,
   "metadata": {},
   "outputs": [
    {
     "name": "stderr",
     "output_type": "stream",
     "text": [
      "/tmp/ipykernel_615349/1550767548.py:2: FutureWarning: You are using `torch.load` with `weights_only=False` (the current default value), which uses the default pickle module implicitly. It is possible to construct malicious pickle data which will execute arbitrary code during unpickling (See https://github.com/pytorch/pytorch/blob/main/SECURITY.md#untrusted-models for more details). In a future release, the default value for `weights_only` will be flipped to `True`. This limits the functions that could be executed during unpickling. Arbitrary objects will no longer be allowed to be loaded via this mode unless they are explicitly allowlisted by the user via `torch.serialization.add_safe_globals`. We recommend you start setting `weights_only=True` for any use case where you don't have full control of the loaded file. Please open an issue on GitHub for any issues related to this experimental feature.\n",
      "  model.load_state_dict(torch.load('classifier.pt'))\n"
     ]
    },
    {
     "data": {
      "text/plain": [
       "QualityClassifier(\n",
       "  (ln): LayerNorm((768,), eps=1e-05, elementwise_affine=True)\n",
       "  (seq): Sequential(\n",
       "    (0): Dropout(p=0.0, inplace=False)\n",
       "    (1): Linear(in_features=1536, out_features=3072, bias=True)\n",
       "    (2): GELU(approximate='none')\n",
       "    (3): Dropout(p=0.0, inplace=False)\n",
       "    (4): Linear(in_features=3072, out_features=2, bias=True)\n",
       "  )\n",
       ")"
      ]
     },
     "execution_count": 4,
     "metadata": {},
     "output_type": "execute_result"
    }
   ],
   "source": [
    "model = QualityClassifier(768, 0.0)\n",
    "model.load_state_dict(torch.load('classifier.pt'))\n",
    "model.eval()"
   ]
  },
  {
   "cell_type": "code",
   "execution_count": 5,
   "metadata": {},
   "outputs": [
    {
     "name": "stderr",
     "output_type": "stream",
     "text": [
      "/tmp/ipykernel_615349/3682615021.py:13: UserWarning: The given buffer is not writable, and PyTorch does not support non-writable tensors. This means you can write to the underlying (supposedly non-writable) buffer using the tensor. You may want to copy the buffer to protect its data or make it writable before converting it to a tensor. This type of warning will be suppressed for the rest of this program. (Triggered internally at /opt/conda/conda-bld/pytorch_1724789172399/work/torch/csrc/utils/tensor_new.cpp:1544.)\n",
      "  embedding = torch.frombuffer(embedding, dtype=torch.float16).to(torch.float32)\n"
     ]
    }
   ],
   "source": [
    "DATASET_SIZE = 4096 * 2\n",
    "\n",
    "with psycopg.connect(dbname='postgres', user='postgres', host=str(Path.cwd().parent / \"pg-socket\")) as conn:\n",
    "\tcursor = conn.cursor()\n",
    "\tcursor.execute('SELECT path FROM images WHERE embedding IS NOT NULL')\n",
    "\tall_paths = [row[0] for row in cursor.fetchall()]\n",
    "\trandom_paths = random.sample(all_paths, DATASET_SIZE)\n",
    "\n",
    "\tembeddings = {}\n",
    "\tfor path in random_paths:\n",
    "\t\tcursor.execute('SELECT embedding FROM images WHERE path = %s', (path,))\n",
    "\t\tembedding = bytes(cursor.fetchone()[0])\n",
    "\t\tembedding = torch.frombuffer(embedding, dtype=torch.float16).to(torch.float32)\n",
    "\t\tembeddings[path] = embedding\n",
    "\n",
    "#pairs = list(itertools.combinations(random_embeddings, 2))"
   ]
  },
  {
   "cell_type": "code",
   "execution_count": 6,
   "metadata": {},
   "outputs": [
    {
     "name": "stderr",
     "output_type": "stream",
     "text": [
      "  0%|          | 0/8192 [00:00<?, ?it/s]"
     ]
    },
    {
     "name": "stderr",
     "output_type": "stream",
     "text": [
      "100%|██████████| 8192/8192 [06:13<00:00, 21.95it/s]\n"
     ]
    }
   ],
   "source": [
    "# ELO\n",
    "default_rating = 1500\n",
    "k_factor = 10\n",
    "ratings = {}\n",
    "rounds = 2048 * 4\n",
    "\n",
    "def expected_score(rating_a, rating_b):\n",
    "\treturn 1 / (1 + 10 ** ((rating_b - rating_a) / 400))\n",
    "\n",
    "def update_ratings(a, b, score_a):\n",
    "\trating_a = ratings[a]\n",
    "\trating_b = ratings[b]\n",
    "\n",
    "\texpected_a = expected_score(rating_a, rating_b)\n",
    "\texpected_b = expected_score(rating_b, rating_a)\n",
    "\n",
    "\tratings[a] = rating_a + k_factor * (score_a - expected_a)\n",
    "\tratings[b] = rating_b + k_factor * ((1 - score_a) - expected_b)\n",
    "\n",
    "\n",
    "def random_derangement(lst: list) -> list:\n",
    "\twhile True:\n",
    "\t\tv = [i for i in range(len(lst))]\n",
    "\t\tfor j in range(len(lst) - 1, -1, -1):\n",
    "\t\t\tp = random.randint(0, j)\n",
    "\t\t\tif v[j] == lst[p]:\n",
    "\t\t\t\tbreak\n",
    "\t\t\tv[j], v[p] = v[p], v[j]\n",
    "\t\telse:\n",
    "\t\t\tif v[0] != lst[0]:\n",
    "\t\t\t\treturn [lst[i] for i in v]\n",
    "\n",
    "\n",
    "@torch.no_grad()\n",
    "def do_round():\n",
    "\tpairs = list(zip(random_paths, random_derangement(random_paths)))\n",
    "\tembeddings_a = torch.stack([embeddings[a] for a, b in pairs])\n",
    "\tembeddings_b = torch.stack([embeddings[b] for a, b in pairs])\n",
    "\tscores = model(embeddings_a, embeddings_b)\n",
    "\tscores = torch.softmax(scores, dim=1)[:, 0].tolist()\n",
    "\tscores = [1.0 if score > 0.5 else 0.0 for score in scores]\n",
    "\n",
    "\t# Update ratings\n",
    "\tratings_a = [ratings[a] for a, b in pairs]\n",
    "\tratings_b = [ratings[b] for a, b in pairs]\n",
    "\n",
    "\texpected_a = [expected_score(rating_a, rating_b) for rating_a, rating_b in zip(ratings_a, ratings_b)]\n",
    "\texpected_b = [expected_score(rating_b, rating_a) for rating_a, rating_b in zip(ratings_a, ratings_b)]\n",
    "\n",
    "\tfor i, (a, b) in enumerate(pairs):\n",
    "\t\tscore = scores[i]\n",
    "\t\trating_a = ratings_a[i]\n",
    "\t\trating_b = ratings_b[i]\n",
    "\n",
    "\t\tratings[a] = rating_a + k_factor * (score - expected_a[i])\n",
    "\t\tratings[b] = rating_b + k_factor * ((1 - score) - expected_b[i])\n",
    "\n",
    "\n",
    "# Add all the paths to the ratings\n",
    "for path in random_paths:\n",
    "\tratings[path] = default_rating\n",
    "\n",
    "# Play rounds\n",
    "for round in tqdm(range(rounds)):\n",
    "\tdo_round()"
   ]
  },
  {
   "cell_type": "code",
   "execution_count": 7,
   "metadata": {},
   "outputs": [],
   "source": [
    "# Save rankings\n",
    "torch.save(ratings, 'elo_rankings.pt')"
   ]
  },
  {
   "cell_type": "code",
   "execution_count": null,
   "metadata": {},
   "outputs": [],
   "source": [
    "old_ratings = ratings"
   ]
  },
  {
   "cell_type": "code",
   "execution_count": null,
   "metadata": {},
   "outputs": [],
   "source": [
    "diffs = [abs(ratings[p] - old_ratings[p]) for p in random_paths]\n",
    "print(sum(diffs) / len(diffs))\n",
    "print(max(diffs))\n",
    "print(min(diffs))"
   ]
  },
  {
   "cell_type": "code",
   "execution_count": null,
   "metadata": {},
   "outputs": [],
   "source": []
  },
  {
   "cell_type": "markdown",
   "metadata": {},
   "source": [
    "## Visualise the ELO rankings"
   ]
  },
  {
   "cell_type": "code",
   "execution_count": null,
   "metadata": {},
   "outputs": [],
   "source": [
    "# Find images that are a grid, but scored above 0\n",
    "rankings = torch.load('elo_rankings.pt')\n",
    "min_ranking = min(rankings.values())\n",
    "max_ranking = max(rankings.values())\n",
    "NUM_BINS = 10\n",
    "bin_size = (max_ranking - min_ranking) / NUM_BINS\n",
    "\n",
    "rankings = {p: min(NUM_BINS - 1, int((r - min_ranking) / bin_size)) for p, r in rankings.items()}\n",
    "rankings = list((p, r) for p, r in rankings.items())\n",
    "\n",
    "failures = []\n",
    "total_grids = 0\n",
    "\n",
    "# Use trained classifier to score images\n",
    "with psycopg.connect(dbname='postgres', user='postgres', host=str(Path.cwd().parent / \"pg-socket\")) as conn:\n",
    "\tcursor = conn.cursor()\n",
    "\n",
    "\tgrid_model = GridClassifier(768, 0.0, 2)\n",
    "\tgrid_model.load_state_dict(torch.load('../grid-detector/classifier.pt'))\n",
    "\tgrid_model.eval()\n",
    "\n",
    "\tfor path, rank in tqdm(rankings, desc='Classifying grid images'):\n",
    "\t\tcursor.execute('SELECT embedding FROM images WHERE path = %s', (path,))\n",
    "\t\tembedding = bytes(cursor.fetchone()[0])\n",
    "\t\tembedding = torch.frombuffer(bytearray(embedding), dtype=torch.float16)\n",
    "\t\tembedding = embedding.to(torch.float32)\n",
    "\t\tembedding = embedding.unsqueeze(0)\n",
    "\n",
    "\t\tlogits = grid_model(embedding)\n",
    "\t\tprobabilities = F.softmax(logits, dim=1)\n",
    "\n",
    "\t\tis_grid = probabilities[:, 1].item() > 0.5\n",
    "\n",
    "\t\tif is_grid and rank > 0:\n",
    "\t\t\tfailures.append((path, rank))\n",
    "\t\t\n",
    "\t\ttotal_grids += is_grid\n",
    "\n",
    "print(f\"Found {len(failures)} grid images with a rank above 0, out of {total_grids} total grid images\")\n",
    "\n",
    "for path, rank in failures[:10]:\n",
    "\tprint(path, rank)\n",
    "\timage = Image.open(path)\n",
    "\tscale = 256 / max(image.width, image.height)\n",
    "\timage = image.resize((int(image.width * scale), int(image.height * scale)))\n",
    "\tdisplay(image)"
   ]
  },
  {
   "cell_type": "code",
   "execution_count": null,
   "metadata": {},
   "outputs": [],
   "source": [
    "rankings = torch.load('elo_rankings.pt')\n",
    "min_ranking = min(rankings.values())\n",
    "max_ranking = max(rankings.values())\n",
    "NUM_BINS = 10\n",
    "bin_size = (max_ranking - min_ranking) / NUM_BINS\n",
    "\n",
    "rankings = {p: min(NUM_BINS - 1, int((r - min_ranking) / bin_size)) for p, r in rankings.items()}\n",
    "rankings = list(rankings.items())\n",
    "\n",
    "\n",
    "def img_html(path):\n",
    "\timage = Image.open(path)\n",
    "\tscale = 512 / max(image.size)\n",
    "\timage = image.resize((int(image.width * scale), int(image.height * scale)))\n",
    "\timage_base64 = io.BytesIO()\n",
    "\timage.save(image_base64, format='WebP', quality=80)\n",
    "\timage_base64 = base64.b64encode(image_base64.getvalue()).decode('utf-8')\n",
    "\treturn f'<img src=\"data:image/webp;base64,{image_base64}\" width=\"512\" style=\"margin: 5px;\">'\n",
    "\n",
    "html = \"\"\n",
    "\n",
    "for bin_number in range(NUM_BINS):\n",
    "\timages = [path for path, bin in rankings if bin == bin_number]\n",
    "\timages = random.sample(images, 16)\n",
    "\n",
    "\thtml += f\"<h1>Bin {bin_number}</h1>\"\n",
    "\t#html += \"<div style='display: flex; flex-wrap: wrap;'>\"\n",
    "\tfor path in images:\n",
    "\t\thtml += img_html(path)\n",
    "\t#html += \"</div>\"\n",
    "\thtml += \"<hr>\"\n",
    "\n",
    "\n",
    "display(HTML(html))"
   ]
  },
  {
   "cell_type": "markdown",
   "metadata": {},
   "source": [
    "## Train the model"
   ]
  },
  {
   "cell_type": "code",
   "execution_count": 10,
   "metadata": {},
   "outputs": [
    {
     "name": "stderr",
     "output_type": "stream",
     "text": [
      "/tmp/ipykernel_615349/1113081306.py:12: FutureWarning: You are using `torch.load` with `weights_only=False` (the current default value), which uses the default pickle module implicitly. It is possible to construct malicious pickle data which will execute arbitrary code during unpickling (See https://github.com/pytorch/pytorch/blob/main/SECURITY.md#untrusted-models for more details). In a future release, the default value for `weights_only` will be flipped to `True`. This limits the functions that could be executed during unpickling. Arbitrary objects will no longer be allowed to be loaded via this mode unless they are explicitly allowlisted by the user via `torch.serialization.add_safe_globals`. We recommend you start setting `weights_only=True` for any use case where you don't have full control of the loaded file. Please open an issue on GitHub for any issues related to this experimental feature.\n",
      "  rankings = torch.load('elo_rankings.pt')\n"
     ]
    },
    {
     "name": "stdout",
     "output_type": "stream",
     "text": [
      "7373 819\n"
     ]
    }
   ],
   "source": [
    "class RankingDataset(torch.utils.data.Dataset):\n",
    "\tdef __init__(self, data):\n",
    "\t\tself.data = data\n",
    "\n",
    "\tdef __len__(self):\n",
    "\t\treturn len(self.data)\n",
    "\n",
    "\tdef __getitem__(self, idx):\n",
    "\t\treturn self.data[idx]\n",
    "\n",
    "\n",
    "rankings = torch.load('elo_rankings.pt')\n",
    "min_ranking = min(rankings.values())\n",
    "max_ranking = max(rankings.values())\n",
    "NUM_BINS = 10\n",
    "bin_size = (max_ranking - min_ranking) / NUM_BINS\n",
    "\n",
    "with psycopg.connect(dbname='postgres', user='postgres', host=str(Path.cwd().parent / \"pg-socket\")) as conn:\n",
    "\tcursor = conn.cursor()\n",
    "\n",
    "\tembeddings = {}\n",
    "\tfor path in rankings.keys():\n",
    "\t\tcursor.execute('SELECT embedding FROM images WHERE path = %s', (path,))\n",
    "\t\tembedding = bytes(cursor.fetchone()[0])\n",
    "\t\tembedding = torch.frombuffer(embedding, dtype=torch.float16).to(torch.float32)\n",
    "\t\tembeddings[path] = embedding\n",
    "\n",
    "rankings = {p: min(NUM_BINS - 1, int((r - min_ranking) / bin_size)) for p, r in rankings.items()}\n",
    "\n",
    "data = [(embeddings[p], rank) for p, rank in rankings.items()]\n",
    "random.shuffle(data)\n",
    "test_size = len(data) // 10\n",
    "train_data = data[:-test_size]\n",
    "test_data = data[-test_size:]\n",
    "\n",
    "train_dataset = RankingDataset(train_data)\n",
    "test_dataset = RankingDataset(test_data)\n",
    "\n",
    "print(len(train_dataset), len(test_dataset))"
   ]
  },
  {
   "cell_type": "code",
   "execution_count": 11,
   "metadata": {},
   "outputs": [],
   "source": [
    "BATCH_SIZE = 512\n",
    "\n",
    "train_dataloader = DataLoader(\n",
    "\tdataset=train_dataset,\n",
    "\tbatch_size=BATCH_SIZE,\n",
    "\tshuffle=True,\n",
    ")\n",
    "\n",
    "test_dataloader = DataLoader(\n",
    "\tdataset=test_dataset,\n",
    "\tbatch_size=BATCH_SIZE,\n",
    "\tshuffle=False,\n",
    ")"
   ]
  },
  {
   "cell_type": "markdown",
   "metadata": {},
   "source": [
    "## LR Finder"
   ]
  },
  {
   "cell_type": "code",
   "execution_count": 13,
   "metadata": {},
   "outputs": [
    {
     "data": {
      "image/png": "[encoded data removed]",
      "text/plain": [
       "<Figure size 640x480 with 1 Axes>"
      ]
     },
     "metadata": {},
     "output_type": "display_data"
    }
   ],
   "source": [
    "def lr_finder(\n",
    "\tdropout: float,\n",
    "\tweight_decay: float,\n",
    "\tstart_lr: float = 1e-7,\n",
    "\tend_lr: float = 10,\n",
    "\tnum_it: int = 100,\n",
    "\tbeta: float = 0.98,\n",
    "):\n",
    "\tlearning_rates = np.geomspace(start_lr, end_lr, num_it)\n",
    "\tmodel = ScoreClassifier(768, dropout=dropout, bins=NUM_BINS).to('cuda')\n",
    "\n",
    "\tloss_function = nn.CrossEntropyLoss()\n",
    "\toptimizer = optim.AdamW(model.parameters(), lr=1.0, weight_decay=weight_decay)\n",
    "\n",
    "\tdataset_iter = iter(train_dataloader)\n",
    "\ttraining_losses = []\n",
    "\ttraining_lrs = []\n",
    "\tsmooth_loss = None\n",
    "\tavg_loss = None\n",
    "\tbest_loss = 1000000000\n",
    "\n",
    "\tfor lr in learning_rates:\n",
    "\t\t# Set learning rate\n",
    "\t\tfor param_group in optimizer.param_groups:\n",
    "\t\t\tparam_group['lr'] = lr\n",
    "\n",
    "\t\t# Get batch\n",
    "\t\ttry:\n",
    "\t\t\tx, y = next(dataset_iter)\n",
    "\t\texcept StopIteration:\n",
    "\t\t\tdataset_iter = iter(train_dataloader)\n",
    "\t\t\tx, y = next(dataset_iter)\n",
    "\t\t\n",
    "\t\tx = x.to('cuda')\n",
    "\t\ty = y.to('cuda')\n",
    "\t\t\n",
    "\t\t# Train\n",
    "\t\tmodel.train()\n",
    "\t\toutput = model(x)\n",
    "\t\tloss = loss_function(output, y)\n",
    "\t\toptimizer.zero_grad(set_to_none=True)\n",
    "\t\tloss.backward()\n",
    "\t\toptimizer.step()\n",
    "\n",
    "\t\ttraining_losses.append(loss.item())\n",
    "\t\ttraining_lrs.append(lr)\n",
    "\n",
    "\t\tif avg_loss is None:\n",
    "\t\t\tavg_loss = loss\n",
    "\t\telse:\n",
    "\t\t\tavg_loss = beta * avg_loss + (1 - beta) * loss\n",
    "\t\t\n",
    "\t\tsmooth_loss = avg_loss / (1 - beta ** (len(training_losses) + 1))\n",
    "\t\t\n",
    "\t\tbest_loss = min(best_loss, smooth_loss)\n",
    "\n",
    "\t\tif smooth_loss > 4 * best_loss or torch.isnan(smooth_loss):\n",
    "\t\t\tbreak\n",
    "\t\n",
    "\treturn {\n",
    "\t\t\"training_losses\": training_losses,\n",
    "\t\t\"training_lrs\": training_lrs,\n",
    "\t}\n",
    "\n",
    "\n",
    "results = lr_finder(\n",
    "\tdropout=0.1,\n",
    "\tweight_decay=0.1,\n",
    ")\n",
    "\n",
    "plt.plot(results['training_lrs'][:-2], results['training_losses'][:-2])\n",
    "plt.xscale('log')\n",
    "plt.yscale('log')\n",
    "plt.show()"
   ]
  },
  {
   "cell_type": "markdown",
   "metadata": {},
   "source": [
    "## Train"
   ]
  },
  {
   "cell_type": "code",
   "execution_count": 12,
   "metadata": {},
   "outputs": [],
   "source": [
    "@torch.no_grad()\n",
    "def test(model, dataloader: DataLoader, loss_function) -> tuple[float, float]:\n",
    "\tmodel.eval()\n",
    "\n",
    "\tcorrects = []\n",
    "\tloss_sum = torch.zeros(1, dtype=torch.float32, device='cpu', requires_grad=False)\n",
    "\n",
    "\tfor x, y in dataloader:\n",
    "\t\tx = x.to('cuda')\n",
    "\t\ty = y.to('cuda')\n",
    "\t\toutput = model(x)\n",
    "\t\tloss = loss_function(output, y)\n",
    "\t\tloss_sum.add_(loss.detach().cpu())\n",
    "\t\tprobs = F.softmax(output, dim=1)\n",
    "\t\tpredictions = torch.argmax(probs, dim=1)\n",
    "\t\tcorrect = (predictions == y).tolist()\n",
    "\t\tcorrects.extend(correct)\n",
    "\t\n",
    "\tmean_loss = loss_sum / len(dataloader)\n",
    "\treturn sum(corrects) / len(corrects), mean_loss.item()\n",
    "\n",
    "\n",
    "def train_a_model(\n",
    "\tlearning_rate: float,\n",
    "\tdropout: float,\n",
    "\twarmup_samples: int,\n",
    "\ttraining_samples: int,\n",
    "\ttest_every: int,\n",
    "\tweight_decay: float,\n",
    "\tone_cycle: bool,\n",
    "):\n",
    "\tmodel = ScoreClassifier(768, dropout=dropout, bins=NUM_BINS).to('cuda')\n",
    "\n",
    "\twarmup_steps = warmup_samples // BATCH_SIZE\n",
    "\ttraining_steps = max(1, training_samples // BATCH_SIZE)\n",
    "\ttest_every_steps = max(1, test_every // BATCH_SIZE)\n",
    "\n",
    "\tloss_function = nn.CrossEntropyLoss()\n",
    "\toptimizer = optim.AdamW(model.parameters(), lr=learning_rate, weight_decay=weight_decay)\n",
    "\tif one_cycle:\n",
    "\t\tlr_scheduler = OneCycleLR(\n",
    "\t\t\toptimizer=optimizer,\n",
    "\t\t\tmax_lr=learning_rate,\n",
    "\t\t\ttotal_steps=training_steps,\n",
    "\t\t)\n",
    "\telse:\n",
    "\t\tlr_scheduler = get_scheduler(\n",
    "\t\t\tname=\"cosine\",\n",
    "\t\t\toptimizer=optimizer,\n",
    "\t\t\tnum_warmup_steps=warmup_steps,\n",
    "\t\t\tnum_training_steps=training_steps,\n",
    "\t\t)\n",
    "\n",
    "\t#test_before, test_loss_before = test(model, test_dataloader, loss_function)\n",
    "\t#print(f\"Test accuracy before training: {test_before}\")\n",
    "\t#print(f\"Test loss before training: {test_loss_before}\")\n",
    "\n",
    "\tdataset_iter = iter(train_dataloader)\n",
    "\ttraining_losses = []\n",
    "\ttraining_lrs = []\n",
    "\ttest_losses = []\n",
    "\ttest_accuracies = []\n",
    "\n",
    "\tfor step in range(training_steps):\n",
    "\t\t# Get batch\n",
    "\t\ttry:\n",
    "\t\t\tx, y = next(dataset_iter)\n",
    "\t\texcept StopIteration:\n",
    "\t\t\tdataset_iter = iter(train_dataloader)\n",
    "\t\t\tx, y = next(dataset_iter)\n",
    "\t\t\n",
    "\t\tx = x.to('cuda')\n",
    "\t\ty = y.to('cuda')\n",
    "\t\t\n",
    "\t\t# Train\n",
    "\t\tmodel.train()\n",
    "\t\toutput = model(x)\n",
    "\t\tloss = loss_function(output, y)\n",
    "\t\toptimizer.zero_grad(set_to_none=True)\n",
    "\t\tloss.backward()\n",
    "\t\toptimizer.step()\n",
    "\t\tlr_scheduler.step()\n",
    "\n",
    "\t\t# Test\n",
    "\t\tif step % test_every_steps == 0:\n",
    "\t\t\ttest_acc, test_loss = test(model, test_dataloader, loss_function)\n",
    "\t\t\ttest_losses.append(test_loss)\n",
    "\t\t\ttest_accuracies.append(test_acc)\n",
    "\t\t\n",
    "\t\ttraining_losses.append(loss.item())\n",
    "\t\ttraining_lrs.append(lr_scheduler.get_last_lr()[0])\n",
    "\t\n",
    "\treturn {\n",
    "\t\t\"training_losses\": training_losses,\n",
    "\t\t\"training_lrs\": training_lrs,\n",
    "\t\t\"test_losses\": test_losses,\n",
    "\t\t\"test_accuracies\": test_accuracies,\n",
    "\t\t\"model\": model,\n",
    "\t}"
   ]
  },
  {
   "cell_type": "code",
   "execution_count": 18,
   "metadata": {},
   "outputs": [
    {
     "data": {
      "image/png": "[encoded data removed]",
      "text/plain": [
       "<Figure size 640x480 with 1 Axes>"
      ]
     },
     "metadata": {},
     "output_type": "display_data"
    },
    {
     "data": {
      "image/png": "[encoded data removed]",
      "text/plain": [
       "<Figure size 640x480 with 1 Axes>"
      ]
     },
     "metadata": {},
     "output_type": "display_data"
    },
    {
     "data": {
      "image/png": "[encoded data removed]",
      "text/plain": [
       "<Figure size 640x480 with 1 Axes>"
      ]
     },
     "metadata": {},
     "output_type": "display_data"
    },
    {
     "data": {
      "image/png": "[encoded data removed]",
      "text/plain": [
       "<Figure size 640x480 with 1 Axes>"
      ]
     },
     "metadata": {},
     "output_type": "display_data"
    },
    {
     "name": "stdout",
     "output_type": "stream",
     "text": [
      "Test loss: 1.1716612577438354\n",
      "Test accuracy: 0.5445665445665445\n"
     ]
    }
   ],
   "source": [
    "result = train_a_model(\n",
    "\tlearning_rate=1e-2,\n",
    "\tdropout=0.1,\n",
    "\twarmup_samples=1000,\n",
    "\ttraining_samples=80000,\n",
    "\ttest_every=512,\n",
    "\tweight_decay=0.1,\n",
    "\tone_cycle=True\n",
    ")\n",
    "\n",
    "min_test_loss = result[\"test_losses\"][-1]\n",
    "min_test_accuracy = result[\"test_accuracies\"][-1]\n",
    "\n",
    "\n",
    "plt.plot(result['training_losses'])\n",
    "plt.title('Training loss')\n",
    "plt.show()\n",
    "\n",
    "plt.plot(result['training_lrs'])\n",
    "plt.title('Learning rate')\n",
    "plt.show()\n",
    "\n",
    "plt.plot(result['test_losses'])\n",
    "plt.title('Test loss')\n",
    "plt.show()\n",
    "\n",
    "plt.plot(result['test_accuracies'])\n",
    "plt.title('Test accuracy')\n",
    "plt.show()\n",
    "\n",
    "print(f\"Test loss: {min_test_loss}\")\n",
    "print(f\"Test accuracy: {min_test_accuracy}\")\n",
    "\n",
    "best_model = result"
   ]
  },
  {
   "cell_type": "code",
   "execution_count": 19,
   "metadata": {},
   "outputs": [],
   "source": [
    "torch.save(best_model['model'].state_dict(), \"scorer.pt\")"
   ]
  },
  {
   "cell_type": "code",
   "execution_count": null,
   "metadata": {},
   "outputs": [],
   "source": []
  },
  {
   "cell_type": "code",
   "execution_count": null,
   "metadata": {},
   "outputs": [],
   "source": []
  },
  {
   "cell_type": "code",
   "execution_count": null,
   "metadata": {},
   "outputs": [],
   "source": []
  },
  {
   "cell_type": "code",
   "execution_count": null,
   "metadata": {},
   "outputs": [],
   "source": []
  },
  {
   "cell_type": "code",
   "execution_count": null,
   "metadata": {},
   "outputs": [],
   "source": []
  },
  {
   "cell_type": "code",
   "execution_count": null,
   "metadata": {},
   "outputs": [],
   "source": []
  },
  {
   "cell_type": "code",
   "execution_count": null,
   "metadata": {},
   "outputs": [],
   "source": []
  },
  {
   "cell_type": "code",
   "execution_count": null,
   "metadata": {},
   "outputs": [],
   "source": [
    "# ELO\n",
    "default_rating = 1500\n",
    "k_factor = 10\n",
    "ratings = {}\n",
    "rounds = 512\n",
    "\n",
    "def expected_score(rating_a, rating_b):\n",
    "\treturn 1 / (1 + 10 ** ((rating_b - rating_a) / 400))\n",
    "\n",
    "def update_ratings(a, b, score_a):\n",
    "\trating_a = ratings[a]\n",
    "\trating_b = ratings[b]\n",
    "\n",
    "\texpected_a = expected_score(rating_a, rating_b)\n",
    "\texpected_b = expected_score(rating_b, rating_a)\n",
    "\n",
    "\tratings[a] = rating_a + k_factor * (score_a - expected_a)\n",
    "\tratings[b] = rating_b + k_factor * ((1 - score_a) - expected_b)\n",
    "\n",
    "\n",
    "# Add all the paths to the ratings\n",
    "for path in random_paths:\n",
    "\tratings[path] = default_rating\n",
    "\n",
    "# Play rounds\n",
    "with torch.no_grad():\n",
    "\tfor round in tqdm(range(rounds)):\n",
    "\t\tfor a in random_paths:\n",
    "\t\t\twhile True:\n",
    "\t\t\t\tb = random.choice(random_paths)\n",
    "\t\t\t\tif a != b:\n",
    "\t\t\t\t\tbreak\n",
    "\t\t\t\n",
    "\t\t\tembedding_a = embeddings[a]\n",
    "\t\t\tembedding_b = embeddings[b]\n",
    "\t\t\tscore = model(embedding_a.unsqueeze(0), embedding_b.unsqueeze(0))[0]\n",
    "\t\t\tscore = torch.softmax(score, dim=0)[0].item()\n",
    "\t\t\tscore = 1.0 if score > 0.5 else 0.0\n",
    "\t\t\tupdate_ratings(a, b, score)"
   ]
  },
  {
   "cell_type": "code",
   "execution_count": null,
   "metadata": {},
   "outputs": [],
   "source": [
    "# Graph the histogram of ratings\n",
    "import matplotlib.pyplot as plt\n",
    "\n",
    "plt.hist(ratings.values(), bins=20)\n",
    "plt.show()\n",
    "\n",
    "print(min(ratings.values()))\n",
    "print(max(ratings.values()))"
   ]
  },
  {
   "cell_type": "code",
   "execution_count": null,
   "metadata": {},
   "outputs": [],
   "source": [
    "NUM_BINS = 10\n",
    "max_rating = max(ratings.values())\n",
    "min_rating = min(ratings.values())\n",
    "bin_size = (max_rating - min_rating) / NUM_BINS\n",
    "bins = defaultdict(list)\n",
    "\n",
    "for path in random_paths:\n",
    "\trank = ratings[path]\n",
    "\tbin = min(int((rank - min_rating) / bin_size), NUM_BINS - 1)\n",
    "\tbins[bin].append(path)\n",
    "\n",
    "print(\"Bin sizes:\")\n",
    "print(\", \".join(f\"{len(bin)}\" for bin in bins.values()))\n",
    "\n",
    "def img_html(path):\n",
    "\timage = Image.open(path)\n",
    "\tscale = 512 / max(image.size)\n",
    "\timage = image.resize((int(image.width * scale), int(image.height * scale)))\n",
    "\timage_base64 = io.BytesIO()\n",
    "\timage.save(image_base64, format='WebP', quality=80)\n",
    "\timage_base64 = base64.b64encode(image_base64.getvalue()).decode('utf-8')\n",
    "\treturn f'<img src=\"data:image/webp;base64,{image_base64}\" width=\"512\" style=\"margin: 5px;\">'\n",
    "\n",
    "html = \"<table>\"\n",
    "\n",
    "for bin_number, image_paths in bins.items():\n",
    "\tsampled_images = random.sample(image_paths, 5)\n",
    "\n",
    "\trow_html = f\"<tr><td>{bin_number}</td>\"\n",
    "\tfor path in sampled_images:\n",
    "\t\trow_html += f\"<td>{img_html(path)}</td>\"\n",
    "\trow_html += \"</tr>\"\n",
    "\n",
    "\thtml += row_html\n",
    "\n",
    "html += \"</table>\"\n",
    "\n",
    "display(HTML(html))\n",
    "\n",
    "#for path in sorted_paths[::10]:\n",
    "#\tprint(ratings[path])\n",
    "#\timage = Image.open(path)\n",
    "#\tscale = 256 / max(image.size)\n",
    "#\tdisplay(image.resize((int(image.width * scale), int(image.height * scale))))"
   ]
  },
  {
   "cell_type": "code",
   "execution_count": null,
   "metadata": {},
   "outputs": [],
   "source": []
  },
  {
   "cell_type": "code",
   "execution_count": null,
   "metadata": {},
   "outputs": [],
   "source": []
  },
  {
   "cell_type": "code",
   "execution_count": null,
   "metadata": {},
   "outputs": [],
   "source": []
  },
  {
   "cell_type": "code",
   "execution_count": null,
   "metadata": {},
   "outputs": [],
   "source": []
  },
  {
   "cell_type": "code",
   "execution_count": null,
   "metadata": {},
   "outputs": [],
   "source": []
  },
  {
   "cell_type": "code",
   "execution_count": null,
   "metadata": {},
   "outputs": [],
   "source": [
    "sort_cache = {}\n",
    "\n",
    "def sort_func(a, b):\n",
    "\tflipped = False\n",
    "\tif b < a:\n",
    "\t\ta, b = b, a\n",
    "\t\tflipped = True\n",
    "\t\n",
    "\tif (a, b) in sort_cache:\n",
    "\t\treturn sort_cache[(a, b)] if not flipped else -sort_cache[(a, b)]\n",
    "\n",
    "\ta_embedding = embeddings[a].unsqueeze(0)\n",
    "\tb_embedding = embeddings[b].unsqueeze(0)\n",
    "\tif a == b or torch.allclose(a_embedding, b_embedding):\n",
    "\t\treturn 0\n",
    "\t\n",
    "\tscore = model(a_embedding, b_embedding)[0]\n",
    "\tscore = torch.softmax(score, dim=0)[0].item()\n",
    "\tscore = -1 if score < 0.5 else 1\n",
    "\tsort_cache[(a, b)] = score\n",
    "\tscore = -score if flipped else score\n",
    "\n",
    "\treturn score\n",
    "\n",
    "sorted_paths = sorted(random_paths, key=functools.cmp_to_key(sort_func))\n",
    "print(f\"Performed {len(sort_cache)} comparisons\")"
   ]
  },
  {
   "cell_type": "code",
   "execution_count": null,
   "metadata": {},
   "outputs": [],
   "source": [
    "for path in sorted_paths:\n",
    "\timage = Image.open(path)\n",
    "\tscale = 512 / max(image.size)\n",
    "\tdisplay(image.resize((int(image.width * scale), int(image.height * scale))))"
   ]
  },
  {
   "cell_type": "code",
   "execution_count": null,
   "metadata": {},
   "outputs": [],
   "source": [
    "for i in range(len(sorted_paths)-1):\n",
    "\ta = sorted_paths[i]\n",
    "\tb = sorted_paths[i+1]\n",
    "\tembedding_a = embeddings[a]\n",
    "\tembedding_b = embeddings[b]\n",
    "\tscore = model(embedding_a.unsqueeze(0), embedding_b.unsqueeze(0))[0]\n",
    "\tscore = torch.softmax(score, dim=0)[0].item()\n",
    "\tprint(score)"
   ]
  },
  {
   "cell_type": "code",
   "execution_count": null,
   "metadata": {},
   "outputs": [],
   "source": []
  }
 ],
 "metadata": {
  "kernelspec": {
   "display_name": "tmpenv5",
   "language": "python",
   "name": "python3"
  },
  "language_info": {
   "codemirror_mode": {
    "name": "ipython",
    "version": 3
   },
   "file_extension": ".py",
   "mimetype": "text/x-python",
   "name": "python",
   "nbconvert_exporter": "python",
   "pygments_lexer": "ipython3",
   "version": "3.11.9"
  }
 },
 "nbformat": 4,
 "nbformat_minor": 2
}
